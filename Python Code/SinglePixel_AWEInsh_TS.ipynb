{
 "cells": [
  {
   "cell_type": "raw",
   "id": "67dd67c4",
   "metadata": {},
   "source": [
    "AWEInsh = 4 * (Band2 - Band5) - (0.25 * Band4 + 2.75 * Band7)  (2)\n",
    "AWEIsh = Band1 + 2.5 * Band2 - 1.5 * (Band4 + Band5) - 0.25 * Band7 (3)"
   ]
  },
  {
   "cell_type": "raw",
   "id": "36d76c2a",
   "metadata": {},
   "source": [
    "AWEInsh is an index formulated to effectively eliminate nonwater pixels, including dark built surfaces in areas with urban background and AWEIsh is primarily formulated for further improvement of accuracy by removing shadow pixels that AWEInsh may not effectively eliminate. The subscript “nsh” in Eq. (2) is included to specify that the index is suited for situations where shadows are not a major problem. The subscript “sh” in Eq. (3) indicates that the equation is intended to effectively eliminate shadow pixels and improve water extraction accuracy in areas with shadow and/or other dark surfaces (Feyisa et al, 2014).\n",
    "\n",
    "The dataset used here is based on Landsat 5 TM. To apply to Landsat 8, the above two equations need to be modified. "
   ]
  },
  {
   "cell_type": "code",
   "execution_count": 2,
   "id": "971bd5ef",
   "metadata": {},
   "outputs": [
    {
     "data": {
      "text/html": [
       "<p>To authorize access needed by Earth Engine, open the following\n",
       "        URL in a web browser and follow the instructions:</p>\n",
       "        <p><a href=https://code.earthengine.google.com/client-auth?scopes=https%3A//www.googleapis.com/auth/earthengine%20https%3A//www.googleapis.com/auth/devstorage.full_control&request_id=lQix579krp4GWka4T1XuKdklqKQAdAZrJQjKjJA9_u8&tc=rNOPCbDL8n_RFceyzQh32Adw8qDOdC4gHlvCDEyuYIE&cc=BZwFlMkUCt9yKZ3Qg2unalF1s4omRrttyYdW9KRo93o>https://code.earthengine.google.com/client-auth?scopes=https%3A//www.googleapis.com/auth/earthengine%20https%3A//www.googleapis.com/auth/devstorage.full_control&request_id=lQix579krp4GWka4T1XuKdklqKQAdAZrJQjKjJA9_u8&tc=rNOPCbDL8n_RFceyzQh32Adw8qDOdC4gHlvCDEyuYIE&cc=BZwFlMkUCt9yKZ3Qg2unalF1s4omRrttyYdW9KRo93o</a></p>\n",
       "        <p>The authorization workflow will generate a code, which you should paste in the box below.</p>\n",
       "        "
      ],
      "text/plain": [
       "<IPython.core.display.HTML object>"
      ]
     },
     "metadata": {},
     "output_type": "display_data"
    },
    {
     "name": "stdout",
     "output_type": "stream",
     "text": [
      "Enter verification code: 4/1ARtbsJqhOmEzzhx6UHfmjVAoOQXfaIe-o7KB5b7phHsT2JcUaD0RIWcRBpY\n",
      "\n",
      "Successfully saved authorization token.\n"
     ]
    }
   ],
   "source": [
    "#import ee\n",
    "#ee.Authenticate()"
   ]
  },
  {
   "cell_type": "markdown",
   "id": "4e14664f",
   "metadata": {},
   "source": [
    "# Import all the Libraries and Packages"
   ]
  },
  {
   "cell_type": "code",
   "execution_count": 3,
   "id": "3dfc9a6f",
   "metadata": {},
   "outputs": [],
   "source": [
    "import os\n",
    "import ee\n",
    "import eemont\n",
    "import geemap\n",
    "import pandas as pd\n",
    "import numpy as np\n",
    "from matplotlib import pyplot as plt\n",
    "ee.Initialize()"
   ]
  },
  {
   "cell_type": "code",
   "execution_count": 4,
   "id": "91ecda30",
   "metadata": {},
   "outputs": [],
   "source": [
    "# Initialize geemap\n",
    "m = geemap.Map()"
   ]
  },
  {
   "cell_type": "markdown",
   "id": "47e1557a",
   "metadata": {},
   "source": [
    "# Import Landsat 5, 7, and 8 Image Collections and Algonquin Features"
   ]
  },
  {
   "cell_type": "code",
   "execution_count": 5,
   "id": "1ef26341",
   "metadata": {},
   "outputs": [],
   "source": [
    "# Extract landsat 5, landsat 7 and landsat 8 image collection and then filter out the unwanted pixels.\n",
    "\n",
    "band_l8 = ['SR_B1', 'SR_B2', 'SR_B3', 'SR_B4', 'SR_B5', 'SR_B6', 'SR_B7', 'QA_PIXEL']\n",
    "band_l5_l7 = ['SR_B1', 'SR_B2', 'SR_B3', 'SR_B4', 'SR_B5', 'SR_B7', 'QA_PIXEL']\n",
    "l8 = ee.ImageCollection(\"LANDSAT/LC08/C02/T1_L2\")\n",
    "l7 = ee.ImageCollection(\"LANDSAT/LE07/C02/T1_L2\")\n",
    "l5 = ee.ImageCollection(\"LANDSAT/LT05/C02/T1_L2\")\n",
    "l8_bands = ee.ImageCollection(\"LANDSAT/LC08/C02/T1_L2\").select(band_l8)\n",
    "l7_bands = ee.ImageCollection(\"LANDSAT/LE07/C02/T1_L2\").select(band_l5_l7)\n",
    "l5_bands = ee.ImageCollection(\"LANDSAT/LT05/C02/T1_L2\").select(band_l5_l7)\n",
    "# Import Algonquin Park Boundary Shapefile for clipping and fitlering the image collection\n",
    "Algonquin_Boundary = ee.FeatureCollection(\"projects/ee-wang25/assets/Algonquin_Boundary\").geometry()\n",
    "\n",
    "#if we also intend to filter the image caputre day of year, use \"ee.Filter.dayOfYear(91,250)\"\n",
    "filters = [\n",
    "    ee.Filter.intersects('.geo', Algonquin_Boundary),\n",
    "]\n",
    "\n",
    "l8_bands_filtered = l8_bands.filter(filters)\n",
    "l7_bands_filtered = l7_bands.filter(filters)\n",
    "l5_bands_filtered = l5_bands.filter(filters)"
   ]
  },
  {
   "cell_type": "code",
   "execution_count": 6,
   "id": "e111dde0",
   "metadata": {},
   "outputs": [],
   "source": [
    "# Apply the cloud, shadow and snow mask\n",
    "\n",
    "def getBit(n):\n",
    "    # Returns a GEE server-side object representing `int(2^n)`\n",
    "    return ee.Number(2).pow(n).int()\n",
    "\n",
    "\n",
    "def addMaskBand(image):   \n",
    "    qa = image.select(\"QA_PIXEL\")\n",
    "    \n",
    "    dilatedCloudBit = getBit(1)\n",
    "    cirrusBit = getBit(2)\n",
    "    cloudBit = getBit(3)\n",
    "    cloudShadowBit = getBit(4)\n",
    "    snowBit = getBit(5)\n",
    "    \n",
    "    # Define the mask by extracting these bits and reclassifying the pixel based on the bit's value\n",
    "    mask = ee.Image(0)\\\n",
    "        .where(qa.bitwiseAnd(dilatedCloudBit).neq(0), 1)\\\n",
    "        .where(qa.bitwiseAnd(cloudBit).neq(0), 2)\\\n",
    "        .where(qa.bitwiseAnd(cirrusBit).neq(0), 3)\\\n",
    "        .where(qa.bitwiseAnd(cloudShadowBit).neq(0), 4)\\\n",
    "        .where(qa.bitwiseAnd(snowBit).neq(0), 5)\\\n",
    "        .updateMask(image.select('QA_PIXEL').mask())\\\n",
    "        .rename(\"cloud_shadow_snow_mask\")\n",
    "    \n",
    "    # return original image with this mask added as an extra band\n",
    "    return image.addBands(mask)\n",
    "\n",
    "l8_bands_filtered_masked = ee.ImageCollection(l8_bands_filtered).map(addMaskBand)\n",
    "l7_bands_filtered_masked = ee.ImageCollection(l7_bands_filtered).map(addMaskBand)\n",
    "l5_bands_filtered_masked = ee.ImageCollection(l5_bands_filtered).map(addMaskBand)\n",
    "\n",
    "def maskImage(image):\n",
    "    cloud_shadow_snow = image.select(\"cloud_shadow_snow_mask\")\n",
    "    return image.updateMask(cloud_shadow_snow.eq(0))\n",
    "\n",
    "l8_final = l8_bands_filtered_masked.map(maskImage)\n",
    "l7_final = l7_bands_filtered_masked.map(maskImage)\n",
    "l5_final = l5_bands_filtered_masked.map(maskImage)"
   ]
  },
  {
   "cell_type": "markdown",
   "id": "0dd35bce",
   "metadata": {},
   "source": [
    "# Calculate the AWEInsh Index for Landsat 5 & Landsat 7 (Feyisa et al, 2014)"
   ]
  },
  {
   "cell_type": "code",
   "execution_count": 9,
   "id": "a3bb2e42",
   "metadata": {},
   "outputs": [],
   "source": [
    "# Define an expression according to Feyisa et al, (2014) to calculate the non-shadow wetness index\n",
    "\n",
    "def calcAWEInsh(image):\n",
    "    AWEInsh = image.expression(\n",
    "        \"4 * (TM2 - TM5) / 10000 - (0.25 * TM4 + 2.75 * TM7) / 10000\", {\n",
    "            \"TM2\" : image.select(\"SR_B2\"),\n",
    "            \"TM4\" : image.select(\"SR_B4\"),\n",
    "            \"TM5\" : image.select(\"SR_B5\"),\n",
    "            \"TM7\" : image.select(\"SR_B7\")\n",
    "    }).rename(\"AWEInsh\")\n",
    "    return image.addBands(AWEInsh)"
   ]
  },
  {
   "cell_type": "code",
   "execution_count": 10,
   "id": "750c5745",
   "metadata": {},
   "outputs": [
    {
     "data": {
      "text/plain": [
       "['SR_B1',\n",
       " 'SR_B2',\n",
       " 'SR_B3',\n",
       " 'SR_B4',\n",
       " 'SR_B5',\n",
       " 'SR_B7',\n",
       " 'QA_PIXEL',\n",
       " 'cloud_shadow_snow_mask',\n",
       " 'AWEInsh']"
      ]
     },
     "execution_count": 10,
     "metadata": {},
     "output_type": "execute_result"
    }
   ],
   "source": [
    "# Test run on Landsat 5 image collection\n",
    "l5_final_AWEInsh = ee.ImageCollection(l5_final).map(calcAWEInsh)\n",
    "l7_final_AWEInsh = ee.ImageCollection(l7_final).map(calcAWEInsh)\n",
    "\n",
    "# Test if the image collection does include the AWEInsh band\n",
    "ee.Image(l5_final_AWEInsh.first()).bandNames().getInfo()"
   ]
  },
  {
   "cell_type": "markdown",
   "id": "b6e6e2ba",
   "metadata": {},
   "source": [
    "# Calculate the AWEInsh Index for Landsat 8"
   ]
  },
  {
   "cell_type": "code",
   "execution_count": 13,
   "id": "0687bb27",
   "metadata": {},
   "outputs": [],
   "source": [
    "# The Thematic Mapper sensor name stayed the same but the band selected according to GEE has been modified to fit Landsat 8\n",
    "\n",
    "def calcAWEInsh(image):\n",
    "    AWEInsh = image.expression(\n",
    "        \"4 * (TM2 - TM5) / 10000 - (0.25 * TM4 + 2.75 * TM7) / 10000\", {\n",
    "            \"TM2\" : image.select(\"SR_B3\"),\n",
    "            \"TM4\" : image.select(\"SR_B5\"),\n",
    "            \"TM5\" : image.select(\"SR_B6\"),\n",
    "            \"TM7\" : image.select(\"SR_B7\")\n",
    "    }).rename(\"AWEInsh\")\n",
    "    return image.addBands(AWEInsh)"
   ]
  },
  {
   "cell_type": "code",
   "execution_count": 14,
   "id": "ac8f1a8c",
   "metadata": {},
   "outputs": [
    {
     "data": {
      "text/plain": [
       "['SR_B1',\n",
       " 'SR_B2',\n",
       " 'SR_B3',\n",
       " 'SR_B4',\n",
       " 'SR_B5',\n",
       " 'SR_B6',\n",
       " 'SR_B7',\n",
       " 'QA_PIXEL',\n",
       " 'cloud_shadow_snow_mask',\n",
       " 'AWEInsh']"
      ]
     },
     "execution_count": 14,
     "metadata": {},
     "output_type": "execute_result"
    }
   ],
   "source": [
    "# Landsat 8\n",
    "l8_final_AWEInsh = ee.ImageCollection(l8_final).map(calcAWEInsh)\n",
    "\n",
    "# Test if the image collection does include the AWEInsh band\n",
    "ee.Image(l8_final_AWEInsh.first()).bandNames().getInfo()"
   ]
  },
  {
   "cell_type": "markdown",
   "id": "d624aead",
   "metadata": {},
   "source": [
    "# Select the Wetness Bands and merge them together"
   ]
  },
  {
   "cell_type": "code",
   "execution_count": 15,
   "id": "3fbb589a",
   "metadata": {},
   "outputs": [
    {
     "name": "stdout",
     "output_type": "stream",
     "text": [
      "3782\n"
     ]
    }
   ],
   "source": [
    "# Select all the wetness bands\n",
    "\n",
    "l5_AWEInsh = ee.ImageCollection(l5_final_AWEInsh).select(\"AWEInsh\")\n",
    "l7_AWEInsh = ee.ImageCollection(l7_final_AWEInsh).select(\"AWEInsh\")\n",
    "l8_AWEInsh = ee.ImageCollection(l8_final_AWEInsh).select(\"AWEInsh\")\n",
    "\n",
    "# Merge the Wetness Index for Landsat 5, 7, 8\n",
    "l5_7_AWEInsh = l5_AWEInsh.merge(l7_AWEInsh)\n",
    "l5_7_8_AWEInsh = l5_7_AWEInsh.merge(l8_AWEInsh)\n",
    "\n",
    "print(l5_7_8_AWEInsh.size().getInfo())"
   ]
  },
  {
   "cell_type": "code",
   "execution_count": 10,
   "id": "89bd905d",
   "metadata": {},
   "outputs": [
    {
     "data": {
      "application/vnd.jupyter.widget-view+json": {
       "model_id": "495abceb2cbc4f96bc6314150ec3e3cd",
       "version_major": 2,
       "version_minor": 0
      },
      "text/plain": [
       "Map(center=[20, 0], controls=(WidgetControl(options=['position', 'transparent_bg'], widget=HBox(children=(Togg…"
      ]
     },
     "metadata": {},
     "output_type": "display_data"
    }
   ],
   "source": [
    "# Display the wetness index and change the min and max parameter\n",
    "\n",
    "AWEInshParams = {\n",
    "  'min': -2500,\n",
    "  'max': 2500,\n",
    "  'palette': ['#762a83','#9970ab','#c2a5cf','#e7d4e8','#f7f7f7','#d9f0d3','#a6dba0','#5aae61','#1b7837']\n",
    "}\n",
    "\n",
    "m = geemap.Map()\n",
    "m.addLayer(l5_7_8_AWEInsh, AWEInshParams, \"Landsat AWEInsh\")\n",
    "m"
   ]
  },
  {
   "cell_type": "markdown",
   "id": "d4b16104",
   "metadata": {},
   "source": [
    "# Using Geopandas to Loop through Shapefile and Export AWEInsh Value"
   ]
  },
  {
   "cell_type": "code",
   "execution_count": 16,
   "id": "90938bcd",
   "metadata": {},
   "outputs": [
    {
     "data": {
      "text/html": [
       "<div>\n",
       "<style scoped>\n",
       "    .dataframe tbody tr th:only-of-type {\n",
       "        vertical-align: middle;\n",
       "    }\n",
       "\n",
       "    .dataframe tbody tr th {\n",
       "        vertical-align: top;\n",
       "    }\n",
       "\n",
       "    .dataframe thead th {\n",
       "        text-align: right;\n",
       "    }\n",
       "</style>\n",
       "<table border=\"1\" class=\"dataframe\">\n",
       "  <thead>\n",
       "    <tr style=\"text-align: right;\">\n",
       "      <th></th>\n",
       "      <th>Id</th>\n",
       "      <th>geometry</th>\n",
       "    </tr>\n",
       "  </thead>\n",
       "  <tbody>\n",
       "    <tr>\n",
       "      <th>0</th>\n",
       "      <td>0</td>\n",
       "      <td>POINT (-78.68041 45.69172)</td>\n",
       "    </tr>\n",
       "    <tr>\n",
       "      <th>1</th>\n",
       "      <td>1</td>\n",
       "      <td>POINT (-78.67734 45.69231)</td>\n",
       "    </tr>\n",
       "    <tr>\n",
       "      <th>2</th>\n",
       "      <td>2</td>\n",
       "      <td>POINT (-78.67780 45.68798)</td>\n",
       "    </tr>\n",
       "  </tbody>\n",
       "</table>\n",
       "</div>"
      ],
      "text/plain": [
       "   Id                    geometry\n",
       "0   0  POINT (-78.68041 45.69172)\n",
       "1   1  POINT (-78.67734 45.69231)\n",
       "2   2  POINT (-78.67780 45.68798)"
      ]
     },
     "execution_count": 16,
     "metadata": {},
     "output_type": "execute_result"
    }
   ],
   "source": [
    "import geopandas as gpd\n",
    "\n",
    "# Use ArcGIS Pro to modify this file or to select more pixels\n",
    "# ArcGIS Pro: Upperstream Location\n",
    "# https://www.lioapplications.lrc.gov.on.ca/OWIT/index.html?viewer=OWIT.OWIT&locale=en-CA\n",
    "# Note: For Test_Upperstream_Location, the attribute \"id\" is now \"Id\". Make sure to change that in the test run.\n",
    "upstream = gpd.read_file(\"D:/Yannans Stuff/Data/Visible Dam/Visible Dam.shp\")\n",
    "upstream"
   ]
  },
  {
   "cell_type": "code",
   "execution_count": 17,
   "id": "19a2b8ef",
   "metadata": {},
   "outputs": [
    {
     "name": "stdout",
     "output_type": "stream",
     "text": [
      "0\n",
      "1\n",
      "2\n"
     ]
    }
   ],
   "source": [
    "for i in upstream.index:\n",
    "    print(upstream.loc[i,'Id'])"
   ]
  },
  {
   "cell_type": "code",
   "execution_count": 18,
   "id": "3804b513",
   "metadata": {},
   "outputs": [],
   "source": [
    "# outdir = \"D:/Yannans Stuff/Data/NDWI_Export\" # specify an output directory\n",
    "# os.makedirs(outdir, exist_ok = True) ## create it if it doesn't already exist"
   ]
  },
  {
   "cell_type": "code",
   "execution_count": 19,
   "id": "f4dcec5d",
   "metadata": {},
   "outputs": [],
   "source": [
    "for i in upstream.index:\n",
    "    # Here we will convert each individual point into a ee.geometry\n",
    "    gpd_geom = upstream.loc[i,'geometry']\n",
    "    x = gpd_geom.xy[0][0]\n",
    "    y = gpd_geom.xy[1][0]\n",
    "    ee_geom = ee.Geometry.Point([x,y])\n",
    "    \n",
    "    # Followed by the eemont code\n",
    "    ts = l5_7_8_AWEInsh.getTimeSeriesByRegion(geometry = ee_geom,\n",
    "                               reducer = ee.Reducer.mean(),\n",
    "                               scale = 30)\n",
    "    tsPandas = geemap.ee_to_pandas(ts)\n",
    "    tsPandas[tsPandas == -9999] = np.nan\n",
    "    tsPandas = tsPandas.dropna()\n",
    "    \n",
    "    #Create an output label using the output directory and the 'id' column\n",
    "    ID = upstream.loc[i,'Id']\n",
    "    tsPandas.to_csv(r\"D:\\Yannans Stuff\\Data\\Visible Dam\\Landsat5_7_8_AWEInsh_TS_{0}.csv\".format(ID))"
   ]
  },
  {
   "cell_type": "code",
   "execution_count": null,
   "id": "90d43d9b",
   "metadata": {},
   "outputs": [],
   "source": []
  }
 ],
 "metadata": {
  "kernelspec": {
   "display_name": "Python 3 (ipykernel)",
   "language": "python",
   "name": "python3"
  },
  "language_info": {
   "codemirror_mode": {
    "name": "ipython",
    "version": 3
   },
   "file_extension": ".py",
   "mimetype": "text/x-python",
   "name": "python",
   "nbconvert_exporter": "python",
   "pygments_lexer": "ipython3",
   "version": "3.10.4"
  }
 },
 "nbformat": 4,
 "nbformat_minor": 5
}
