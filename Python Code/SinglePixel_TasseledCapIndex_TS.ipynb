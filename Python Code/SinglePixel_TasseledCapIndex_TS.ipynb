{
 "cells": [
  {
   "cell_type": "markdown",
   "id": "a91e4eee",
   "metadata": {},
   "source": [
    "# Import all the Libraries and Packages"
   ]
  },
  {
   "cell_type": "code",
   "execution_count": 1,
   "id": "1d14d5bb",
   "metadata": {},
   "outputs": [],
   "source": [
    "import os\n",
    "import ee\n",
    "import eemont\n",
    "import geemap\n",
    "import pandas as pd\n",
    "import numpy as np\n",
    "from matplotlib import pyplot as plt\n",
    "ee.Initialize()"
   ]
  },
  {
   "cell_type": "code",
   "execution_count": 2,
   "id": "4419a5d0",
   "metadata": {},
   "outputs": [],
   "source": [
    "# Initialize google earth engine map\n",
    "m = geemap.Map()"
   ]
  },
  {
   "cell_type": "markdown",
   "id": "3a9dd2c2",
   "metadata": {},
   "source": [
    "# Import all the Image Collections and Features then apply filter"
   ]
  },
  {
   "cell_type": "code",
   "execution_count": 3,
   "id": "3a35d897",
   "metadata": {},
   "outputs": [],
   "source": [
    "# Extract landsat 5, landsat 7 and landsat 8 image collection and then filter out the unwanted pixels.\n",
    "\n",
    "band_l8 = ['SR_B1', 'SR_B2', 'SR_B3', 'SR_B4', 'SR_B5', 'SR_B6', 'SR_B7', 'QA_PIXEL']\n",
    "band_l5_l7 = ['SR_B1', 'SR_B2', 'SR_B3', 'SR_B4', 'SR_B5', 'SR_B7', 'QA_PIXEL']\n",
    "l8 = ee.ImageCollection(\"LANDSAT/LC08/C02/T1_L2\")\n",
    "l7 = ee.ImageCollection(\"LANDSAT/LE07/C02/T1_L2\")\n",
    "l5 = ee.ImageCollection(\"LANDSAT/LT05/C02/T1_L2\")\n",
    "l8_bands = ee.ImageCollection(\"LANDSAT/LC08/C02/T1_L2\").select(band_l8)\n",
    "l7_bands = ee.ImageCollection(\"LANDSAT/LE07/C02/T1_L2\").select(band_l5_l7)\n",
    "l5_bands = ee.ImageCollection(\"LANDSAT/LT05/C02/T1_L2\").select(band_l5_l7)\n",
    "# Import Algonquin Park Boundary Shapefile for clipping and fitlering the image collection\n",
    "Algonquin_Boundary = ee.FeatureCollection(\"projects/ee-wang25/assets/Algonquin_Boundary\").geometry()\n",
    "\n",
    "#if we also intend to filter the image caputre day of year, use \"ee.Filter.dayOfYear(91,250)\"\n",
    "filters = [\n",
    "    ee.Filter.intersects('.geo', Algonquin_Boundary),\n",
    "]\n",
    "\n",
    "l8_bands_filtered = l8_bands.filter(filters)\n",
    "l7_bands_filtered = l7_bands.filter(filters)\n",
    "l5_bands_filtered = l5_bands.filter(filters)"
   ]
  },
  {
   "cell_type": "code",
   "execution_count": 4,
   "id": "85856bb3",
   "metadata": {},
   "outputs": [],
   "source": [
    "# Apply the cloud, shadow and snow mask\n",
    "\n",
    "def getBit(n):\n",
    "    # Returns a GEE server-side object representing `int(2^n)`\n",
    "    return ee.Number(2).pow(n).int()\n",
    "\n",
    "\n",
    "def addMaskBand(image):   \n",
    "    qa = image.select(\"QA_PIXEL\")\n",
    "    \n",
    "    dilatedCloudBit = getBit(1)\n",
    "    cirrusBit = getBit(2)\n",
    "    cloudBit = getBit(3)\n",
    "    cloudShadowBit = getBit(4)\n",
    "    snowBit = getBit(5)\n",
    "    \n",
    "    # Define the mask by extracting these bits and reclassifying the pixel based on the bit's value\n",
    "    mask = ee.Image(0)\\\n",
    "        .where(qa.bitwiseAnd(dilatedCloudBit).neq(0), 1)\\\n",
    "        .where(qa.bitwiseAnd(cloudBit).neq(0), 2)\\\n",
    "        .where(qa.bitwiseAnd(cirrusBit).neq(0), 3)\\\n",
    "        .where(qa.bitwiseAnd(cloudShadowBit).neq(0), 4)\\\n",
    "        .where(qa.bitwiseAnd(snowBit).neq(0), 5)\\\n",
    "        .updateMask(image.select('QA_PIXEL').mask())\\\n",
    "        .rename(\"cloud_shadow_snow_mask\")\n",
    "    \n",
    "    # return original image with this mask added as an extra band\n",
    "    return image.addBands(mask)\n",
    "\n",
    "l8_bands_filtered_masked = ee.ImageCollection(l8_bands_filtered).map(addMaskBand)\n",
    "l7_bands_filtered_masked = ee.ImageCollection(l7_bands_filtered).map(addMaskBand)\n",
    "l5_bands_filtered_masked = ee.ImageCollection(l5_bands_filtered).map(addMaskBand)\n",
    "\n",
    "def maskImage(image):\n",
    "    cloud_shadow_snow = image.select(\"cloud_shadow_snow_mask\")\n",
    "    return image.updateMask(cloud_shadow_snow.eq(0))\n",
    "\n",
    "l8_final = l8_bands_filtered_masked.map(maskImage)\n",
    "l7_final = l7_bands_filtered_masked.map(maskImage)\n",
    "l5_final = l5_bands_filtered_masked.map(maskImage)"
   ]
  },
  {
   "cell_type": "markdown",
   "id": "ca6775d9",
   "metadata": {},
   "source": [
    "# Calculate the Tasseled Cap Index for Landsat 5 & 7 - Crist and Kauth (1986)"
   ]
  },
  {
   "cell_type": "code",
   "execution_count": 5,
   "id": "2cae5a04",
   "metadata": {},
   "outputs": [],
   "source": [
    "# Define functions to calculate brightness, greeness and wetness individually and then add each band to the image collection\n",
    "\n",
    "def calcTasseledCapIndex_Brightness(image):\n",
    "    brightness = image.expression(\n",
    "        \"(0.2909 * TM1) + (0.2493 * TM2) + (0.4806 * TM3) + (0.5568 * TM4) + (0.4438 * TM5) + (0.1706 * TM7)\", {\n",
    "            \"TM1\" : image.select(\"SR_B1\"),\n",
    "            \"TM2\" : image.select(\"SR_B2\"),\n",
    "            \"TM3\" : image.select(\"SR_B3\"),\n",
    "            \"TM4\" : image.select(\"SR_B4\"),\n",
    "            \"TM5\" : image.select(\"SR_B5\"),\n",
    "            \"TM7\" : image.select(\"SR_B7\")\n",
    "    }).rename(\"brightness\")\n",
    "    return image.addBands(brightness)\n",
    "\n",
    "def calcTasseledCapIndex_Greeness(image):\n",
    "    greeness = image.expression(\n",
    "        \"- (0.2728 * TM1) - (0.2174 * TM2) - (0.5508 * TM3) + (0.7221 * TM4) + (0.0733 * TM5) - (0.1648 * TM7)\", {\n",
    "            \"TM1\" : image.select(\"SR_B1\"),\n",
    "            \"TM2\" : image.select(\"SR_B2\"),\n",
    "            \"TM3\" : image.select(\"SR_B3\"),\n",
    "            \"TM4\" : image.select(\"SR_B4\"),\n",
    "            \"TM5\" : image.select(\"SR_B5\"),\n",
    "            \"TM7\" : image.select(\"SR_B7\")\n",
    "    }).rename(\"greeness\")\n",
    "    return image.addBands(greeness)\n",
    "\n",
    "def calcTasseledCapIndex_Wetness(image):\n",
    "    wetness = image.expression(\n",
    "        \"(0.1446 * TM1) + (0.1761 * TM2) + (0.3322 * TM3) + (0.3396 * TM4) - (0.6210 * TM5) - (0.4186 * TM7)\", {\n",
    "            \"TM1\" : image.select(\"SR_B1\"),\n",
    "            \"TM2\" : image.select(\"SR_B2\"),\n",
    "            \"TM3\" : image.select(\"SR_B3\"),\n",
    "            \"TM4\" : image.select(\"SR_B4\"),\n",
    "            \"TM5\" : image.select(\"SR_B5\"),\n",
    "            \"TM7\" : image.select(\"SR_B7\")\n",
    "    }).rename(\"wetness\")\n",
    "    return image.addBands(wetness)"
   ]
  },
  {
   "cell_type": "code",
   "execution_count": 6,
   "id": "278578f9",
   "metadata": {},
   "outputs": [
    {
     "data": {
      "text/plain": [
       "['SR_B1',\n",
       " 'SR_B2',\n",
       " 'SR_B3',\n",
       " 'SR_B4',\n",
       " 'SR_B5',\n",
       " 'SR_B7',\n",
       " 'QA_PIXEL',\n",
       " 'cloud_shadow_snow_mask',\n",
       " 'brightness',\n",
       " 'greeness',\n",
       " 'wetness']"
      ]
     },
     "execution_count": 6,
     "metadata": {},
     "output_type": "execute_result"
    }
   ],
   "source": [
    "# Test run on landsat 5 image collection\n",
    "l5_final_B = ee.ImageCollection(l5_final).map(calcTasseledCapIndex_Brightness)\n",
    "l5_final_BG = ee.ImageCollection(l5_final_B).map(calcTasseledCapIndex_Greeness)\n",
    "l5_final_BGW = ee.ImageCollection(l5_final_BG).map(calcTasseledCapIndex_Wetness)\n",
    "\n",
    "#Test if the first image does include all three Brightness, Greeness and Wetness Bands\n",
    "ee.Image(l5_final_BGW.first()).bandNames().getInfo()"
   ]
  },
  {
   "cell_type": "code",
   "execution_count": 7,
   "id": "8e29fc35",
   "metadata": {},
   "outputs": [
    {
     "data": {
      "text/plain": [
       "['SR_B1',\n",
       " 'SR_B2',\n",
       " 'SR_B3',\n",
       " 'SR_B4',\n",
       " 'SR_B5',\n",
       " 'SR_B7',\n",
       " 'QA_PIXEL',\n",
       " 'cloud_shadow_snow_mask',\n",
       " 'brightness',\n",
       " 'greeness',\n",
       " 'wetness']"
      ]
     },
     "execution_count": 7,
     "metadata": {},
     "output_type": "execute_result"
    }
   ],
   "source": [
    "# Test run on landsat 7 image collection\n",
    "l7_final_B = ee.ImageCollection(l7_final).map(calcTasseledCapIndex_Brightness)\n",
    "l7_final_BG = ee.ImageCollection(l7_final_B).map(calcTasseledCapIndex_Greeness)\n",
    "l7_final_BGW = ee.ImageCollection(l7_final_BG).map(calcTasseledCapIndex_Wetness)\n",
    "\n",
    "#Test if the first image does include all three Brightness, Greeness and Wetness Bands\n",
    "ee.Image(l7_final_BGW.first()).bandNames().getInfo()"
   ]
  },
  {
   "cell_type": "code",
   "execution_count": 8,
   "id": "b492fc81",
   "metadata": {},
   "outputs": [],
   "source": [
    "# Visualization\n",
    "\n",
    "TasseledCapParams = {\n",
    "  \"bands\": ['brightness', 'greeness', 'wetness'],\n",
    "    \"min\": [0, 0, 0],\n",
    "    \"max\": [30000, 20000, 20000]\n",
    "}\n",
    "\n",
    "m.addLayer(l5_final_BGW, TasseledCapParams, \"l5_final_BGW\")\n",
    "m.addLayer(l7_final_BGW, TasseledCapParams, \"l7_final_BGW\")\n",
    "m.setCenter(-78.3, 45.77, 9)"
   ]
  },
  {
   "cell_type": "markdown",
   "id": "77e00b6c",
   "metadata": {},
   "source": [
    "# Calculate the Tasseled Cap Index for Landsat 8 - Baig et al. (2014)"
   ]
  },
  {
   "cell_type": "code",
   "execution_count": 9,
   "id": "8b20aca3",
   "metadata": {},
   "outputs": [],
   "source": [
    "# Define functions to calculate brightness, greeness and wetness individually and then add each band to the image collection\n",
    "\n",
    "def calcTasseledCapIndex_Brightness(image):\n",
    "    brightness = image.expression(\n",
    "        \"(0.3029 * TM1) + (0.2786 * TM2) + (0.4733 * TM3) + (0.5599 * TM4) + (0.508 * TM5) + (0.1872 * TM7)\", {\n",
    "            \"TM1\" : image.select(\"SR_B2\"),\n",
    "            \"TM2\" : image.select(\"SR_B3\"),\n",
    "            \"TM3\" : image.select(\"SR_B4\"),\n",
    "            \"TM4\" : image.select(\"SR_B5\"),\n",
    "            \"TM5\" : image.select(\"SR_B6\"),\n",
    "            \"TM7\" : image.select(\"SR_B7\")\n",
    "    }).rename(\"brightness\")\n",
    "    return image.addBands(brightness)\n",
    "\n",
    "def calcTasseledCapIndex_Greeness(image):\n",
    "    greeness = image.expression(\n",
    "        \"- (0.2941 * TM1) - (0.243 * TM2) - (0.5424 * TM3) + (0.7276 * TM4) + (0.0713 * TM5) - (0.1608 * TM7)\", {\n",
    "            \"TM1\" : image.select(\"SR_B2\"),\n",
    "            \"TM2\" : image.select(\"SR_B3\"),\n",
    "            \"TM3\" : image.select(\"SR_B4\"),\n",
    "            \"TM4\" : image.select(\"SR_B5\"),\n",
    "            \"TM5\" : image.select(\"SR_B6\"),\n",
    "            \"TM7\" : image.select(\"SR_B7\")\n",
    "    }).rename(\"greeness\")\n",
    "    return image.addBands(greeness)\n",
    "\n",
    "def calcTasseledCapIndex_Wetness(image):\n",
    "    wetness = image.expression(\n",
    "        \"(0.1511 * TM1) + (0.1973 * TM2) + (0.3283 * TM3) + (0.3407 * TM4) - (0.7117 * TM5) - (0.4559 * TM7)\", {\n",
    "            \"TM1\" : image.select(\"SR_B2\"),\n",
    "            \"TM2\" : image.select(\"SR_B3\"),\n",
    "            \"TM3\" : image.select(\"SR_B4\"),\n",
    "            \"TM4\" : image.select(\"SR_B5\"),\n",
    "            \"TM5\" : image.select(\"SR_B6\"),\n",
    "            \"TM7\" : image.select(\"SR_B7\")\n",
    "    }).rename(\"wetness\")\n",
    "    return image.addBands(wetness)"
   ]
  },
  {
   "cell_type": "code",
   "execution_count": 10,
   "id": "79cb19de",
   "metadata": {},
   "outputs": [
    {
     "data": {
      "text/plain": [
       "['SR_B1',\n",
       " 'SR_B2',\n",
       " 'SR_B3',\n",
       " 'SR_B4',\n",
       " 'SR_B5',\n",
       " 'SR_B6',\n",
       " 'SR_B7',\n",
       " 'QA_PIXEL',\n",
       " 'cloud_shadow_snow_mask',\n",
       " 'brightness',\n",
       " 'greeness',\n",
       " 'wetness']"
      ]
     },
     "execution_count": 10,
     "metadata": {},
     "output_type": "execute_result"
    }
   ],
   "source": [
    "# Test run on landsat 7 image collection\n",
    "l8_final_B = ee.ImageCollection(l8_final).map(calcTasseledCapIndex_Brightness)\n",
    "l8_final_BG = ee.ImageCollection(l8_final_B).map(calcTasseledCapIndex_Greeness)\n",
    "l8_final_BGW = ee.ImageCollection(l8_final_BG).map(calcTasseledCapIndex_Wetness)\n",
    "\n",
    "#Test if the first image does include all three Brightness, Greeness and Wetness Bands\n",
    "ee.Image(l8_final_BGW.first()).bandNames().getInfo()"
   ]
  },
  {
   "cell_type": "code",
   "execution_count": 11,
   "id": "a5c3e552",
   "metadata": {},
   "outputs": [],
   "source": [
    "# Visualization\n",
    "\n",
    "TasseledCapParams = {\n",
    "  \"bands\": ['brightness', 'greeness', 'wetness'],\n",
    "    \"min\": [0, 0, 0],\n",
    "    \"max\": [30000, 20000, 20000]\n",
    "}\n",
    "\n",
    "m.addLayer(l8_final_BGW, TasseledCapParams, \"l8_final_BGW\")\n",
    "m.setCenter(-78.3, 45.77, 9)"
   ]
  },
  {
   "cell_type": "markdown",
   "id": "c74ba5d0",
   "metadata": {},
   "source": [
    "# Select the Wetness Bands and merge them together"
   ]
  },
  {
   "cell_type": "code",
   "execution_count": 12,
   "id": "b00cde04",
   "metadata": {},
   "outputs": [],
   "source": [
    "# Select all the wetness bands\n",
    "\n",
    "l5_Wetness = ee.ImageCollection(l5_final_BGW).select(\"wetness\")\n",
    "l7_Wetness = ee.ImageCollection(l7_final_BGW).select(\"wetness\")\n",
    "l8_Wetness = ee.ImageCollection(l8_final_BGW).select(\"wetness\")\n",
    "\n",
    "# Merge the Wetness Index for Landsat 5, 7, 8\n",
    "l5_7_Wetness = l5_Wetness.merge(l7_Wetness)\n",
    "l5_7_8_Wetness = l5_7_Wetness.merge(l8_Wetness)"
   ]
  },
  {
   "cell_type": "code",
   "execution_count": 13,
   "id": "3a8f0420",
   "metadata": {},
   "outputs": [
    {
     "name": "stdout",
     "output_type": "stream",
     "text": [
      "3782\n"
     ]
    }
   ],
   "source": [
    "l5_7_8_Wetness.first().bandNames().getInfo()\n",
    "print(l5_7_8_Wetness.size().getInfo())"
   ]
  },
  {
   "cell_type": "code",
   "execution_count": 14,
   "id": "fde6c94e",
   "metadata": {},
   "outputs": [
    {
     "data": {
      "application/vnd.jupyter.widget-view+json": {
       "model_id": "5ab18ad501b549b3b93ccfd54355dda1",
       "version_major": 2,
       "version_minor": 0
      },
      "text/plain": [
       "Map(center=[20, 0], controls=(WidgetControl(options=['position', 'transparent_bg'], widget=HBox(children=(Togg…"
      ]
     },
     "metadata": {},
     "output_type": "display_data"
    }
   ],
   "source": [
    "# Display the wetness index\n",
    "\n",
    "WetnessParams = {\n",
    "  'min': -2500,\n",
    "  'max': 2500,\n",
    "  'palette': ['#762a83','#9970ab','#c2a5cf','#e7d4e8','#f7f7f7','#d9f0d3','#a6dba0','#5aae61','#1b7837']\n",
    "}\n",
    "\n",
    "m = geemap.Map()\n",
    "m.addLayer(l5_7_8_Wetness, WetnessParams, \"Landsat Tasseled Cap Wetness Index\")\n",
    "m"
   ]
  },
  {
   "cell_type": "markdown",
   "id": "a14592d6",
   "metadata": {},
   "source": [
    "# Using Geopandas to Loop through Shapefile and Export Tasseled Cap Index Value"
   ]
  },
  {
   "cell_type": "code",
   "execution_count": 15,
   "id": "f6a02c70",
   "metadata": {},
   "outputs": [
    {
     "data": {
      "text/html": [
       "<div>\n",
       "<style scoped>\n",
       "    .dataframe tbody tr th:only-of-type {\n",
       "        vertical-align: middle;\n",
       "    }\n",
       "\n",
       "    .dataframe tbody tr th {\n",
       "        vertical-align: top;\n",
       "    }\n",
       "\n",
       "    .dataframe thead th {\n",
       "        text-align: right;\n",
       "    }\n",
       "</style>\n",
       "<table border=\"1\" class=\"dataframe\">\n",
       "  <thead>\n",
       "    <tr style=\"text-align: right;\">\n",
       "      <th></th>\n",
       "      <th>Id</th>\n",
       "      <th>geometry</th>\n",
       "    </tr>\n",
       "  </thead>\n",
       "  <tbody>\n",
       "    <tr>\n",
       "      <th>0</th>\n",
       "      <td>0</td>\n",
       "      <td>POINT (-78.68041 45.69172)</td>\n",
       "    </tr>\n",
       "    <tr>\n",
       "      <th>1</th>\n",
       "      <td>1</td>\n",
       "      <td>POINT (-78.67734 45.69231)</td>\n",
       "    </tr>\n",
       "    <tr>\n",
       "      <th>2</th>\n",
       "      <td>2</td>\n",
       "      <td>POINT (-78.67780 45.68798)</td>\n",
       "    </tr>\n",
       "  </tbody>\n",
       "</table>\n",
       "</div>"
      ],
      "text/plain": [
       "   Id                    geometry\n",
       "0   0  POINT (-78.68041 45.69172)\n",
       "1   1  POINT (-78.67734 45.69231)\n",
       "2   2  POINT (-78.67780 45.68798)"
      ]
     },
     "execution_count": 15,
     "metadata": {},
     "output_type": "execute_result"
    }
   ],
   "source": [
    "import geopandas as gpd\n",
    "\n",
    "# Use ArcGIS Pro to modify this file or to select more pixels\n",
    "# ArcGIS Pro: Upperstream Location\n",
    "# https://www.lioapplications.lrc.gov.on.ca/OWIT/index.html?viewer=OWIT.OWIT&locale=en-CA\n",
    "# Note: For Test_Upperstream_Location, the attribute \"id\" is now \"Id\". Make sure to change that in the test run.\n",
    "upstream = gpd.read_file(\"D:/Yannans Stuff/Data/Visible Dam/Visible Dam.shp\")\n",
    "upstream"
   ]
  },
  {
   "cell_type": "code",
   "execution_count": 16,
   "id": "39c9b098",
   "metadata": {},
   "outputs": [
    {
     "name": "stdout",
     "output_type": "stream",
     "text": [
      "0\n",
      "1\n",
      "2\n"
     ]
    }
   ],
   "source": [
    "for i in upstream.index:\n",
    "    print(upstream.loc[i,'Id'])"
   ]
  },
  {
   "cell_type": "code",
   "execution_count": 17,
   "id": "f5da30ef",
   "metadata": {},
   "outputs": [],
   "source": [
    "# outdir = \"D:/Yannans Stuff/Data/NDWI_Export\" # specify an output directory\n",
    "# os.makedirs(outdir, exist_ok = True) ## create it if it doesn't already exist"
   ]
  },
  {
   "cell_type": "code",
   "execution_count": 19,
   "id": "d154b921",
   "metadata": {},
   "outputs": [],
   "source": [
    "for j in range(0, len(upstream)):\n",
    "    i = upstream.index[j]\n",
    "    # Here we will convert each individual point into a ee.geometry\n",
    "    gpd_geom = upstream.loc[i,'geometry']\n",
    "    x = gpd_geom.xy[0][0]\n",
    "    y = gpd_geom.xy[1][0]\n",
    "    ee_geom = ee.Geometry.Point([x,y])\n",
    "    \n",
    "    # Followed by the eemont code\n",
    "    ts = l5_7_8_Wetness.getTimeSeriesByRegion(geometry = ee_geom,\n",
    "                               reducer = ee.Reducer.mean(),\n",
    "                               scale = 30)\n",
    "    tsPandas = geemap.ee_to_pandas(ts)\n",
    "    tsPandas[tsPandas == -9999] = np.nan\n",
    "    tsPandas = tsPandas.dropna()\n",
    "    \n",
    "    #Create an output label using the output directory and the 'id' column\n",
    "    ID = upstream.loc[i,'Id']\n",
    "    tsPandas.to_csv(r\"D:\\Yannans Stuff\\Data\\Visible Dam\\Landsat5_7_8_TasseledCapIndex_TS_{0}.csv\".format(ID))"
   ]
  },
  {
   "cell_type": "raw",
   "id": "1c76ff23",
   "metadata": {},
   "source": [
    "# Note: GEE has an approximately 1 hour computation time limit. Therefore, the number of location selected for calculating tasseled cap index must be less than 30. Otherwise, it will output an error after the 30th point stating \"Computation timed out\"."
   ]
  }
 ],
 "metadata": {
  "kernelspec": {
   "display_name": "Python 3 (ipykernel)",
   "language": "python",
   "name": "python3"
  },
  "language_info": {
   "codemirror_mode": {
    "name": "ipython",
    "version": 3
   },
   "file_extension": ".py",
   "mimetype": "text/x-python",
   "name": "python",
   "nbconvert_exporter": "python",
   "pygments_lexer": "ipython3",
   "version": "3.10.4"
  }
 },
 "nbformat": 4,
 "nbformat_minor": 5
}
