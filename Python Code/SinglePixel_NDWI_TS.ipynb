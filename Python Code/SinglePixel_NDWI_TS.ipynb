{
 "cells": [
  {
   "cell_type": "markdown",
   "id": "673c7efa",
   "metadata": {},
   "source": [
    "# Import all the libraries and packages"
   ]
  },
  {
   "cell_type": "code",
   "execution_count": null,
   "id": "e8a14c31",
   "metadata": {},
   "outputs": [],
   "source": [
    "#!pip install eemont"
   ]
  },
  {
   "cell_type": "code",
   "execution_count": 1,
   "id": "5c5b80fc",
   "metadata": {},
   "outputs": [],
   "source": [
    "import os\n",
    "import ee\n",
    "import eemont\n",
    "import geemap\n",
    "import pandas as pd\n",
    "import numpy as np\n",
    "from matplotlib import pyplot as plt\n",
    "ee.Initialize()"
   ]
  },
  {
   "cell_type": "code",
   "execution_count": 2,
   "id": "14a01842",
   "metadata": {},
   "outputs": [],
   "source": [
    "# Test if geemap is activated\n",
    "m = geemap.Map()\n",
    "# m"
   ]
  },
  {
   "cell_type": "markdown",
   "id": "4cc738f1",
   "metadata": {},
   "source": [
    "# Calculate a collected NDWI Map"
   ]
  },
  {
   "cell_type": "code",
   "execution_count": 3,
   "id": "2c72c91b",
   "metadata": {},
   "outputs": [
    {
     "data": {
      "application/vnd.jupyter.widget-view+json": {
       "model_id": "ca958ca8a2ca4ef2ac73dbd4502f51b2",
       "version_major": 2,
       "version_minor": 0
      },
      "text/plain": [
       "Map(center=[45.77, -78.3], controls=(WidgetControl(options=['position', 'transparent_bg'], widget=HBox(childre…"
      ]
     },
     "metadata": {},
     "output_type": "display_data"
    }
   ],
   "source": [
    "band_l8 = ['SR_B1', 'SR_B2', 'SR_B3', 'SR_B4', 'SR_B5', 'SR_B6', 'SR_B7', 'QA_PIXEL']\n",
    "band_l5_l7 = ['SR_B1', 'SR_B2', 'SR_B3', 'SR_B4', 'SR_B5', 'SR_B7', 'QA_PIXEL']\n",
    "l8 = ee.ImageCollection(\"LANDSAT/LC08/C02/T1_L2\")\n",
    "l7 = ee.ImageCollection(\"LANDSAT/LE07/C02/T1_L2\")\n",
    "l5 = ee.ImageCollection(\"LANDSAT/LT05/C02/T1_L2\")\n",
    "l8_bands = ee.ImageCollection(\"LANDSAT/LC08/C02/T1_L2\").select(band_l8)\n",
    "l7_bands = ee.ImageCollection(\"LANDSAT/LE07/C02/T1_L2\").select(band_l5_l7)\n",
    "l5_bands = ee.ImageCollection(\"LANDSAT/LT05/C02/T1_L2\").select(band_l5_l7)\n",
    "# Import Algonquin Park Boundary Shapefile for clipping and fitlering the image collection\n",
    "Algonquin_Boundary = ee.FeatureCollection(\"projects/ee-wang25/assets/Algonquin_Boundary\").geometry()\n",
    "\n",
    "#if we also intend to filter the image caputre day of year, use \"ee.Filter.dayOfYear(91,250)\"\n",
    "filters = [\n",
    "    ee.Filter.intersects('.geo', Algonquin_Boundary),\n",
    "]\n",
    "\n",
    "l8_bands_filtered = l8_bands.filter(filters)\n",
    "l7_bands_filtered = l7_bands.filter(filters)\n",
    "l5_bands_filtered = l5_bands.filter(filters)\n",
    "\n",
    "def getBit(n):\n",
    "    # Returns a GEE server-side object representing `int(2^n)`\n",
    "    return ee.Number(2).pow(n).int()\n",
    "\n",
    "\n",
    "def addMaskBand(image):   \n",
    "    qa = image.select(\"QA_PIXEL\")\n",
    "    \n",
    "    dilatedCloudBit = getBit(1)\n",
    "    cirrusBit = getBit(2)\n",
    "    cloudBit = getBit(3)\n",
    "    cloudShadowBit = getBit(4)\n",
    "    snowBit = getBit(5)\n",
    "    \n",
    "    # Define the mask by extracting these bits and reclassifying the pixel based on the bit's value\n",
    "    mask = ee.Image(0)\\\n",
    "        .where(qa.bitwiseAnd(dilatedCloudBit).neq(0), 1)\\\n",
    "        .where(qa.bitwiseAnd(cloudBit).neq(0), 2)\\\n",
    "        .where(qa.bitwiseAnd(cirrusBit).neq(0), 3)\\\n",
    "        .where(qa.bitwiseAnd(cloudShadowBit).neq(0), 4)\\\n",
    "        .where(qa.bitwiseAnd(snowBit).neq(0), 5)\\\n",
    "        .updateMask(image.select('QA_PIXEL').mask())\\\n",
    "        .rename(\"cloud_shadow_snow_mask\")\n",
    "    \n",
    "    # return original image with this mask added as an extra band\n",
    "    return image.addBands(mask)\n",
    "\n",
    "l8_bands_filtered_masked = ee.ImageCollection(l8_bands_filtered).map(addMaskBand)\n",
    "l7_bands_filtered_masked = ee.ImageCollection(l7_bands_filtered).map(addMaskBand)\n",
    "l5_bands_filtered_masked = ee.ImageCollection(l5_bands_filtered).map(addMaskBand)\n",
    "\n",
    "def maskImage(image):\n",
    "    cloud_shadow_snow = image.select(\"cloud_shadow_snow_mask\")\n",
    "    return image.updateMask(cloud_shadow_snow.eq(0))\n",
    "\n",
    "l8_final = l8_bands_filtered_masked.map(maskImage)\n",
    "l7_final = l7_bands_filtered_masked.map(maskImage)\n",
    "l5_final = l5_bands_filtered_masked.map(maskImage)\n",
    "\n",
    "l8_vizParams = {\n",
    "    \"bands\": ['SR_B5', 'SR_B4', 'SR_B3'],\n",
    "    \"min\": [0, 0, 0],\n",
    "    \"max\": [30000, 20000, 20000]\n",
    "}\n",
    "\n",
    "l5_l7_vizParams = {\n",
    "    \"bands\": ['SR_B4', 'SR_B3', 'SR_B2'],\n",
    "    \"min\": [0, 0, 0],\n",
    "    \"max\": [30000, 20000, 20000]\n",
    "}\n",
    "\n",
    "#---------------------------------------EVERYTHING UP TO HERE IS THE SAME FOR ALL INDICES---------------------------\n",
    "\n",
    "\n",
    "def calcNDWI(image):\n",
    "    return image.normalizedDifference(['SR_B2','SR_B4']).multiply(10000).rename(\"NDWI\").set({'system:time_start': image.get('system:time_start')})\n",
    "\n",
    "l5_NDWI = l5_final.map(calcNDWI)\n",
    "l7_NDWI = l7_final.map(calcNDWI)\n",
    "\n",
    "ndwiParams = {\n",
    "  'min': -5000,\n",
    "  'max': 5000,\n",
    "  'palette': ['#762a83','#9970ab','#c2a5cf','#e7d4e8','#f7f7f7','#d9f0d3','#a6dba0','#5aae61','#1b7837']\n",
    "}\n",
    "\n",
    "#calcNDWI is redefined here to change the bands used for calculating NDWI for Landsat 8\n",
    "def calcNDWI(image):\n",
    "    return image.normalizedDifference(['SR_B3','SR_B5']).multiply(10000).rename(\"NDWI\").set({'system:time_start': image.get('system:time_start')})\n",
    "\n",
    "l8_NDWI = l8_final.map(calcNDWI)\n",
    "\n",
    "l8_ndwiParams = {\n",
    "  'min': -5000,\n",
    "  'max': 5000,\n",
    "  'palette': ['#762a83','#9970ab','#c2a5cf','#e7d4e8','#f7f7f7','#d9f0d3','#a6dba0','#5aae61','#1b7837']\n",
    "}\n",
    "\n",
    "# Merge l5_NDWI and l7_NDWI\n",
    "landsat_5_7_NDWI = l5_NDWI.merge(l7_NDWI)\n",
    "# Merge landsat_5_7_NDWI with l8_NDWI\n",
    "landsat_5_7_8_NDWI = landsat_5_7_NDWI.merge(l8_NDWI)\n",
    "\n",
    "m = geemap.Map()\n",
    "m.addLayer(landsat_5_7_8_NDWI, ndwiParams, \"l5_7_8_NDWI\")\n",
    "m.setCenter(-78.3, 45.77, 9)\n",
    "m"
   ]
  },
  {
   "cell_type": "markdown",
   "id": "080e001e",
   "metadata": {},
   "source": [
    "# Using Geopandas to Loop through Shapefile and Export NDWI Value"
   ]
  },
  {
   "cell_type": "code",
   "execution_count": 6,
   "id": "6b4c11a1",
   "metadata": {},
   "outputs": [
    {
     "data": {
      "text/html": [
       "<div>\n",
       "<style scoped>\n",
       "    .dataframe tbody tr th:only-of-type {\n",
       "        vertical-align: middle;\n",
       "    }\n",
       "\n",
       "    .dataframe tbody tr th {\n",
       "        vertical-align: top;\n",
       "    }\n",
       "\n",
       "    .dataframe thead th {\n",
       "        text-align: right;\n",
       "    }\n",
       "</style>\n",
       "<table border=\"1\" class=\"dataframe\">\n",
       "  <thead>\n",
       "    <tr style=\"text-align: right;\">\n",
       "      <th></th>\n",
       "      <th>Id</th>\n",
       "      <th>geometry</th>\n",
       "    </tr>\n",
       "  </thead>\n",
       "  <tbody>\n",
       "    <tr>\n",
       "      <th>0</th>\n",
       "      <td>0</td>\n",
       "      <td>POINT (-78.68041 45.69172)</td>\n",
       "    </tr>\n",
       "    <tr>\n",
       "      <th>1</th>\n",
       "      <td>1</td>\n",
       "      <td>POINT (-78.67734 45.69231)</td>\n",
       "    </tr>\n",
       "    <tr>\n",
       "      <th>2</th>\n",
       "      <td>2</td>\n",
       "      <td>POINT (-78.67780 45.68798)</td>\n",
       "    </tr>\n",
       "  </tbody>\n",
       "</table>\n",
       "</div>"
      ],
      "text/plain": [
       "   Id                    geometry\n",
       "0   0  POINT (-78.68041 45.69172)\n",
       "1   1  POINT (-78.67734 45.69231)\n",
       "2   2  POINT (-78.67780 45.68798)"
      ]
     },
     "execution_count": 6,
     "metadata": {},
     "output_type": "execute_result"
    }
   ],
   "source": [
    "import geopandas as gpd\n",
    "\n",
    "# Use ArcGIS Pro to modify this file or to select more pixels\n",
    "# ArcGIS Pro: Upperstream Location\n",
    "# https://www.lioapplications.lrc.gov.on.ca/OWIT/index.html?viewer=OWIT.OWIT&locale=en-CA\n",
    "upstream = gpd.read_file(\"D:/Yannans Stuff/Data/Visible Dam/Visible Dam.shp\")\n",
    "upstream"
   ]
  },
  {
   "cell_type": "code",
   "execution_count": 7,
   "id": "d04bf367",
   "metadata": {},
   "outputs": [
    {
     "name": "stdout",
     "output_type": "stream",
     "text": [
      "0\n",
      "1\n",
      "2\n"
     ]
    }
   ],
   "source": [
    "for i in upstream.index:\n",
    "    print(upstream.loc[i,'Id'])"
   ]
  },
  {
   "cell_type": "code",
   "execution_count": 8,
   "id": "b02ae8bd",
   "metadata": {},
   "outputs": [],
   "source": [
    "# outdir = \"D:/Yannans Stuff/Data/NDWI_Export\" # specify an output directory\n",
    "# os.makedirs(outdir, exist_ok = True) ## create it if it doesn't already exist"
   ]
  },
  {
   "cell_type": "code",
   "execution_count": 9,
   "id": "6fe54fbf",
   "metadata": {},
   "outputs": [],
   "source": [
    "for i in upstream.index:\n",
    "    # Here we will convert each individual point into a ee.geometry\n",
    "    gpd_geom = upstream.loc[i,'geometry']\n",
    "    x = gpd_geom.xy[0][0]\n",
    "    y = gpd_geom.xy[1][0]\n",
    "    ee_geom = ee.Geometry.Point([x,y])\n",
    "    \n",
    "    # Followed by the eemont code\n",
    "    ts = landsat_5_7_8_NDWI.getTimeSeriesByRegion(geometry = ee_geom,\n",
    "                               reducer = ee.Reducer.mean(),\n",
    "                               scale = 30)\n",
    "    tsPandas = geemap.ee_to_pandas(ts)\n",
    "    tsPandas[tsPandas == -9999] = np.nan\n",
    "    tsPandas = tsPandas.dropna()\n",
    "    \n",
    "    #Create an output label using the output directory and the 'id' column\n",
    "    ID = upstream.loc[i,'Id']\n",
    "    tsPandas.to_csv(r\"D:\\Yannans Stuff\\Data\\Visible Dam\\Landsat5_7_8_NDWI_TS_{0}.csv\".format(ID))"
   ]
  },
  {
   "cell_type": "code",
   "execution_count": null,
   "id": "8f88c664",
   "metadata": {},
   "outputs": [],
   "source": []
  }
 ],
 "metadata": {
  "kernelspec": {
   "display_name": "Python 3 (ipykernel)",
   "language": "python",
   "name": "python3"
  },
  "language_info": {
   "codemirror_mode": {
    "name": "ipython",
    "version": 3
   },
   "file_extension": ".py",
   "mimetype": "text/x-python",
   "name": "python",
   "nbconvert_exporter": "python",
   "pygments_lexer": "ipython3",
   "version": "3.10.4"
  }
 },
 "nbformat": 4,
 "nbformat_minor": 5
}
