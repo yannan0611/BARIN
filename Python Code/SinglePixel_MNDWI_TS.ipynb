{
 "cells": [
  {
   "cell_type": "markdown",
   "id": "a3e7392d",
   "metadata": {},
   "source": [
    "# Import all the Libraries and Packages"
   ]
  },
  {
   "cell_type": "code",
   "execution_count": null,
   "id": "2e1ea58f",
   "metadata": {},
   "outputs": [],
   "source": [
    "#!pip install eemont"
   ]
  },
  {
   "cell_type": "code",
   "execution_count": null,
   "id": "cc019bc2",
   "metadata": {},
   "outputs": [],
   "source": [
    "import os\n",
    "import ee\n",
    "import eemont\n",
    "import geemap\n",
    "import pandas as pd\n",
    "import numpy as np\n",
    "from matplotlib import pyplot as plt\n",
    "ee.Initialize()"
   ]
  },
  {
   "cell_type": "code",
   "execution_count": 2,
   "id": "3afaf3a5",
   "metadata": {},
   "outputs": [],
   "source": [
    "# Test if geemap is activated\n",
    "m = geemap.Map()\n",
    "# m"
   ]
  },
  {
   "cell_type": "markdown",
   "id": "aff592db",
   "metadata": {},
   "source": [
    "# Calculate a collected MNDWI Map"
   ]
  },
  {
   "cell_type": "code",
   "execution_count": 3,
   "id": "60d7ba50",
   "metadata": {},
   "outputs": [
    {
     "data": {
      "application/vnd.jupyter.widget-view+json": {
       "model_id": "43c01af1ed9d4801927e8a06405643a9",
       "version_major": 2,
       "version_minor": 0
      },
      "text/plain": [
       "Map(center=[45.77, -78.3], controls=(WidgetControl(options=['position', 'transparent_bg'], widget=HBox(childre…"
      ]
     },
     "metadata": {},
     "output_type": "display_data"
    }
   ],
   "source": [
    "band_l8 = ['SR_B1', 'SR_B2', 'SR_B3', 'SR_B4', 'SR_B5', 'SR_B6', 'SR_B7', 'QA_PIXEL']\n",
    "band_l5_l7 = ['SR_B1', 'SR_B2', 'SR_B3', 'SR_B4', 'SR_B5', 'SR_B7', 'QA_PIXEL']\n",
    "l8 = ee.ImageCollection(\"LANDSAT/LC08/C02/T1_L2\")\n",
    "l7 = ee.ImageCollection(\"LANDSAT/LE07/C02/T1_L2\")\n",
    "l5 = ee.ImageCollection(\"LANDSAT/LT05/C02/T1_L2\")\n",
    "l8_bands = ee.ImageCollection(\"LANDSAT/LC08/C02/T1_L2\").select(band_l8)\n",
    "l7_bands = ee.ImageCollection(\"LANDSAT/LE07/C02/T1_L2\").select(band_l5_l7)\n",
    "l5_bands = ee.ImageCollection(\"LANDSAT/LT05/C02/T1_L2\").select(band_l5_l7)\n",
    "# Import Algonquin Park Boundary Shapefile for clipping and fitlering the image collection\n",
    "Algonquin_Boundary = ee.FeatureCollection(\"projects/ee-wang25/assets/Algonquin_Boundary\").geometry()\n",
    "\n",
    "#if we also intend to filter the image caputre day of year, use \"ee.Filter.dayOfYear(91,250)\"\n",
    "filters = [\n",
    "    ee.Filter.intersects('.geo', Algonquin_Boundary),\n",
    "]\n",
    "\n",
    "l8_bands_filtered = l8_bands.filter(filters)\n",
    "l7_bands_filtered = l7_bands.filter(filters)\n",
    "l5_bands_filtered = l5_bands.filter(filters)\n",
    "\n",
    "def getBit(n):\n",
    "    # Returns a GEE server-side object representing `int(2^n)`\n",
    "    return ee.Number(2).pow(n).int()\n",
    "\n",
    "\n",
    "def addMaskBand(image):   \n",
    "    qa = image.select(\"QA_PIXEL\")\n",
    "    \n",
    "    dilatedCloudBit = getBit(1)\n",
    "    cirrusBit = getBit(2)\n",
    "    cloudBit = getBit(3)\n",
    "    cloudShadowBit = getBit(4)\n",
    "    snowBit = getBit(5)\n",
    "    \n",
    "    # Define the mask by extracting these bits and reclassifying the pixel based on the bit's value\n",
    "    mask = ee.Image(0)\\\n",
    "        .where(qa.bitwiseAnd(dilatedCloudBit).neq(0), 1)\\\n",
    "        .where(qa.bitwiseAnd(cloudBit).neq(0), 2)\\\n",
    "        .where(qa.bitwiseAnd(cirrusBit).neq(0), 3)\\\n",
    "        .where(qa.bitwiseAnd(cloudShadowBit).neq(0), 4)\\\n",
    "        .where(qa.bitwiseAnd(snowBit).neq(0), 5)\\\n",
    "        .updateMask(image.select('QA_PIXEL').mask())\\\n",
    "        .rename(\"cloud_shadow_snow_mask\")\n",
    "    \n",
    "    # return original image with this mask added as an extra band\n",
    "    return image.addBands(mask)\n",
    "\n",
    "l8_bands_filtered_masked = ee.ImageCollection(l8_bands_filtered).map(addMaskBand)\n",
    "l7_bands_filtered_masked = ee.ImageCollection(l7_bands_filtered).map(addMaskBand)\n",
    "l5_bands_filtered_masked = ee.ImageCollection(l5_bands_filtered).map(addMaskBand)\n",
    "\n",
    "def maskImage(image):\n",
    "    cloud_shadow_snow = image.select(\"cloud_shadow_snow_mask\")\n",
    "    return image.updateMask(cloud_shadow_snow.eq(0))\n",
    "\n",
    "l8_final = l8_bands_filtered_masked.map(maskImage)\n",
    "l7_final = l7_bands_filtered_masked.map(maskImage)\n",
    "l5_final = l5_bands_filtered_masked.map(maskImage)\n",
    "\n",
    "l8_vizParams = {\n",
    "    \"bands\": ['SR_B5', 'SR_B4', 'SR_B3'],\n",
    "    \"min\": [0, 0, 0],\n",
    "    \"max\": [30000, 20000, 20000]\n",
    "}\n",
    "\n",
    "l5_l7_vizParams = {\n",
    "    \"bands\": ['SR_B4', 'SR_B3', 'SR_B2'],\n",
    "    \"min\": [0, 0, 0],\n",
    "    \"max\": [30000, 20000, 20000]\n",
    "}\n",
    "\n",
    "#---------------------------------------EVERYTHING UP TO HERE IS THE SAME FOR ALL INDICES---------------------------\n",
    "\n",
    "\n",
    "def calcMNDWI(image):\n",
    "    return image.normalizedDifference(['SR_B2','SR_B5']).multiply(10000).rename(\"MNDWI\").set({'system:time_start': image.get('system:time_start')})\n",
    "\n",
    "l5_MNDWI = l5_final.map(calcMNDWI)\n",
    "l7_MNDWI = l7_final.map(calcMNDWI)\n",
    "\n",
    "# Note:\n",
    "# For NDWI visualization, the min and max parameters are set to 5000 and -5000\n",
    "# For MNDWI visualization, 5000 makes the image appears bleached. Therefore, this is changed to 2500\n",
    "mndwiParams = {\n",
    "  'min': -2500,\n",
    "  'max': 2500,\n",
    "  'palette': ['#762a83','#9970ab','#c2a5cf','#e7d4e8','#f7f7f7','#d9f0d3','#a6dba0','#5aae61','#1b7837']\n",
    "}\n",
    "\n",
    "# Change the spectral Bands used to calculate MNDWI for Landsat 8\n",
    "def calcMNDWI(image):\n",
    "    return image.normalizedDifference(['SR_B3','SR_B6']).multiply(10000).rename(\"MNDWI\").set({'system:time_start': image.get('system:time_start')})\n",
    "\n",
    "l8_MNDWI = l8_final.map(calcMNDWI)\n",
    "\n",
    "# Merge l5_MNDWI and l7_MNDWI\n",
    "landsat_5_7_MNDWI = l5_MNDWI.merge(l7_MNDWI)\n",
    "# Merge landsat_5_7_MNDWI with l8_MNDWI\n",
    "landsat_5_7_8_MNDWI = landsat_5_7_MNDWI.merge(l8_MNDWI)\n",
    "\n",
    "m = geemap.Map()\n",
    "m.addLayer(landsat_5_7_8_MNDWI, mndwiParams, \"l5_7_8_MNDWI\")\n",
    "m.setCenter(-78.3, 45.77, 9)\n",
    "m"
   ]
  },
  {
   "cell_type": "markdown",
   "id": "3caa926f",
   "metadata": {},
   "source": [
    "# Using Geopandas to Loop through Shapefile and Export MNDWI Value"
   ]
  },
  {
   "cell_type": "code",
   "execution_count": 4,
   "id": "1f6b1d81",
   "metadata": {},
   "outputs": [
    {
     "data": {
      "text/html": [
       "<div>\n",
       "<style scoped>\n",
       "    .dataframe tbody tr th:only-of-type {\n",
       "        vertical-align: middle;\n",
       "    }\n",
       "\n",
       "    .dataframe tbody tr th {\n",
       "        vertical-align: top;\n",
       "    }\n",
       "\n",
       "    .dataframe thead th {\n",
       "        text-align: right;\n",
       "    }\n",
       "</style>\n",
       "<table border=\"1\" class=\"dataframe\">\n",
       "  <thead>\n",
       "    <tr style=\"text-align: right;\">\n",
       "      <th></th>\n",
       "      <th>Id</th>\n",
       "      <th>geometry</th>\n",
       "    </tr>\n",
       "  </thead>\n",
       "  <tbody>\n",
       "    <tr>\n",
       "      <th>0</th>\n",
       "      <td>0</td>\n",
       "      <td>POINT (-78.68041 45.69172)</td>\n",
       "    </tr>\n",
       "    <tr>\n",
       "      <th>1</th>\n",
       "      <td>1</td>\n",
       "      <td>POINT (-78.67734 45.69231)</td>\n",
       "    </tr>\n",
       "    <tr>\n",
       "      <th>2</th>\n",
       "      <td>2</td>\n",
       "      <td>POINT (-78.67780 45.68798)</td>\n",
       "    </tr>\n",
       "  </tbody>\n",
       "</table>\n",
       "</div>"
      ],
      "text/plain": [
       "   Id                    geometry\n",
       "0   0  POINT (-78.68041 45.69172)\n",
       "1   1  POINT (-78.67734 45.69231)\n",
       "2   2  POINT (-78.67780 45.68798)"
      ]
     },
     "execution_count": 4,
     "metadata": {},
     "output_type": "execute_result"
    }
   ],
   "source": [
    "import geopandas as gpd\n",
    "\n",
    "# Use ArcGIS Pro to modify this file or to select more pixels\n",
    "# ArcGIS Pro: Upperstream Location\n",
    "# https://www.lioapplications.lrc.gov.on.ca/OWIT/index.html?viewer=OWIT.OWIT&locale=en-CA\n",
    "upstream = gpd.read_file(\"D:/Yannans Stuff/Data/Visible Dam/Visible Dam.shp\")\n",
    "upstream"
   ]
  },
  {
   "cell_type": "code",
   "execution_count": 5,
   "id": "e4d291b5",
   "metadata": {},
   "outputs": [
    {
     "name": "stdout",
     "output_type": "stream",
     "text": [
      "0\n",
      "1\n",
      "2\n"
     ]
    }
   ],
   "source": [
    "for i in upstream.index:\n",
    "    print(upstream.loc[i,'Id'])"
   ]
  },
  {
   "cell_type": "code",
   "execution_count": 6,
   "id": "e5d48c98",
   "metadata": {},
   "outputs": [],
   "source": [
    "# outdir = \"D:/Yannans Stuff/Data/NDWI_Export\" # specify an output directory\n",
    "# os.makedirs(outdir, exist_ok = True) ## create it if it doesn't already exist"
   ]
  },
  {
   "cell_type": "code",
   "execution_count": 8,
   "id": "0c720d18",
   "metadata": {},
   "outputs": [],
   "source": [
    "for i in upstream.index:\n",
    "    # Here we will convert each individual point into a ee.geometry\n",
    "    gpd_geom = upstream.loc[i,'geometry']\n",
    "    x = gpd_geom.xy[0][0]\n",
    "    y = gpd_geom.xy[1][0]\n",
    "    ee_geom = ee.Geometry.Point([x,y])\n",
    "    \n",
    "    # Followed by the eemont code\n",
    "    ts = landsat_5_7_8_MNDWI.getTimeSeriesByRegion(geometry = ee_geom,\n",
    "                               reducer = ee.Reducer.mean(),\n",
    "                               scale = 30)\n",
    "    tsPandas = geemap.ee_to_pandas(ts)\n",
    "    tsPandas[tsPandas == -9999] = np.nan\n",
    "    tsPandas = tsPandas.dropna()\n",
    "    \n",
    "    #Create an output label using the output directory and the 'id' column\n",
    "    ID = upstream.loc[i,'Id']\n",
    "    tsPandas.to_csv(r\"D:\\Yannans Stuff\\Data\\Visible Dam\\Landsat5_7_8_MNDWI_TS_{0}.csv\".format(ID))"
   ]
  },
  {
   "cell_type": "code",
   "execution_count": null,
   "id": "07330299",
   "metadata": {},
   "outputs": [],
   "source": []
  }
 ],
 "metadata": {
  "kernelspec": {
   "display_name": "Python 3 (ipykernel)",
   "language": "python",
   "name": "python3"
  },
  "language_info": {
   "codemirror_mode": {
    "name": "ipython",
    "version": 3
   },
   "file_extension": ".py",
   "mimetype": "text/x-python",
   "name": "python",
   "nbconvert_exporter": "python",
   "pygments_lexer": "ipython3",
   "version": "3.10.4"
  }
 },
 "nbformat": 4,
 "nbformat_minor": 5
}
