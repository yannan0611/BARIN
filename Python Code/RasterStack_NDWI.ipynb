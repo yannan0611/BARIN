{
 "cells": [
  {
   "cell_type": "code",
   "execution_count": 1,
   "id": "9346d390",
   "metadata": {},
   "outputs": [],
   "source": [
    "import geemap\n",
    "import ee\n",
    "ee.Initialize()"
   ]
  },
  {
   "cell_type": "code",
   "execution_count": null,
   "id": "dffd688c",
   "metadata": {},
   "outputs": [],
   "source": [
    "# ee.Authenticate()"
   ]
  },
  {
   "cell_type": "code",
   "execution_count": 2,
   "id": "b03e3e0e",
   "metadata": {},
   "outputs": [],
   "source": [
    "# Choose these coordinates when for the final product\n",
    "\n",
    "vertices = [\n",
    "    [\n",
    "       -78.6788057698592,\n",
    "        45.68985184684981 \n",
    "    ],\n",
    "    [\n",
    "       -78.67627376454914,\n",
    "        45.68985184684981 \n",
    "    ],\n",
    "    [\n",
    "        -78.67627376454914,\n",
    "         45.692621011934015\n",
    "    ],\n",
    "    [\n",
    "        -78.6788057698592,\n",
    "        45.692621011934015\n",
    "    ],\n",
    "    [\n",
    "        -78.6788057698592,\n",
    "        45.68985184684981\n",
    "    ]\n",
    "]\n",
    "\n",
    "poly = ee.Geometry.Polygon(vertices)"
   ]
  },
  {
   "cell_type": "code",
   "execution_count": null,
   "id": "74b0f457",
   "metadata": {},
   "outputs": [],
   "source": [
    "# Choose these coordinates when we want to map the entire watershed\n",
    "\n",
    "vertices = [\n",
    "    [\n",
    "      -78.68270923328974,\n",
    "      45.68524774437538\n",
    "    ],\n",
    "    [\n",
    "     -78.67440511417963,\n",
    "      45.68524774437538\n",
    "    ],\n",
    "    [\n",
    "      -78.67440511417963,\n",
    "      45.69305715580808\n",
    "    ],\n",
    "    [\n",
    "      -78.68270923328974,\n",
    "      45.493210350454774\n",
    "    ],\n",
    "    [\n",
    "      -78.41757353217413,\n",
    "      45.69305715580808\n",
    "    ],\n",
    "    [\n",
    "      -78.68270923328974,\n",
    "      45.68524774437538\n",
    "    ]\n",
    "]\n",
    "    \n",
    "poly = ee.Geometry.Polygon(vertices)"
   ]
  },
  {
   "cell_type": "code",
   "execution_count": null,
   "id": "2bc5b97f",
   "metadata": {},
   "outputs": [],
   "source": [
    "# Choose these coordinates when for the loop test\n",
    "\n",
    "vertices = [\n",
    "    [\n",
    "       -78.67816051316345,\n",
    "        45.687667175820906 \n",
    "    ],\n",
    "    [\n",
    "       -78.67750068974578,\n",
    "        45.687667175820906 \n",
    "    ],\n",
    "    [\n",
    "        -78.67750068974578,\n",
    "         45.68808313765678\n",
    "    ],\n",
    "    [\n",
    "        -78.67816051316345,\n",
    "        45.68808313765678\n",
    "    ],\n",
    "    [\n",
    "        -78.67816051316345,\n",
    "        45.687667175820906\n",
    "    ]\n",
    "]\n",
    "\n",
    "poly = ee.Geometry.Polygon(vertices)"
   ]
  },
  {
   "cell_type": "code",
   "execution_count": 3,
   "id": "642b90c0",
   "metadata": {},
   "outputs": [],
   "source": [
    "def getBit(n):\n",
    "    # Returns a GEE server-side object representing `int(2^n)`\n",
    "    return ee.Number(2).pow(n).int()\n",
    "\n",
    "\n",
    "def addMaskBand(image):   \n",
    "    qa = image.select(\"QA_PIXEL\")\n",
    "    \n",
    "    dilatedCloudBit = getBit(1)\n",
    "    cirrusBit = getBit(2)\n",
    "    cloudBit = getBit(3)\n",
    "    cloudShadowBit = getBit(4)\n",
    "    snowBit = getBit(5)\n",
    "    \n",
    "    # Define the mask by extracting these bits and reclassifying the pixel based on the bit's value\n",
    "    mask = ee.Image(0)\\\n",
    "        .where(qa.bitwiseAnd(dilatedCloudBit).neq(0), 1)\\\n",
    "        .where(qa.bitwiseAnd(cloudBit).neq(0), 2)\\\n",
    "        .where(qa.bitwiseAnd(cirrusBit).neq(0), 3)\\\n",
    "        .where(qa.bitwiseAnd(cloudShadowBit).neq(0), 4)\\\n",
    "        .where(qa.bitwiseAnd(snowBit).neq(0), 5)\\\n",
    "        .updateMask(image.select('QA_PIXEL').mask())\\\n",
    "        .rename(\"cloud_shadow_snow_mask\")\n",
    "    \n",
    "    # return original image with this mask added as an extra band\n",
    "    return image.addBands(mask)\n",
    "\n",
    "def maskImage(image):\n",
    "    cloud_shadow_snow = image.select(\"cloud_shadow_snow_mask\")\n",
    "    return image.updateMask(cloud_shadow_snow.eq(0))"
   ]
  },
  {
   "cell_type": "code",
   "execution_count": 4,
   "id": "fb2bca0e",
   "metadata": {},
   "outputs": [],
   "source": [
    "def calcNDWI(image):\n",
    "    return image.normalizedDifference(['SR_B2','SR_B4']).multiply(10000).rename(\"NDWI\").set({'system:time_start': image.get('system:time_start')})\n",
    "\n",
    "def calcNDWIL8(image):\n",
    "    return image.normalizedDifference(['SR_B3','SR_B5']).multiply(10000).rename(\"NDWI\").set({'system:time_start': image.get('system:time_start')})"
   ]
  },
  {
   "cell_type": "code",
   "execution_count": 5,
   "id": "72bc0481",
   "metadata": {},
   "outputs": [],
   "source": [
    "filters = [\n",
    "    ee.Filter.bounds(poly),\n",
    "    ee.Filter.lt(\"CLOUD_COVER\", 50)\n",
    "]\n",
    "\n",
    "l8 = ee.ImageCollection(\"LANDSAT/LC08/C02/T1_L2\").filter(filters).map(addMaskBand).map(maskImage).map(calcNDWIL8)\n",
    "l7 = ee.ImageCollection(\"LANDSAT/LE07/C02/T1_L2\").filter(filters).map(addMaskBand).map(maskImage).map(calcNDWI)\n",
    "l5 = ee.ImageCollection(\"LANDSAT/LT05/C02/T1_L2\").filter(filters).map(addMaskBand).map(maskImage).map(calcNDWI)\n",
    "\n",
    "ndwi = ee.ImageCollection(l5.merge(l7).merge(l8)).sort('system:time_start')"
   ]
  },
  {
   "cell_type": "code",
   "execution_count": 6,
   "id": "74bba4e0",
   "metadata": {},
   "outputs": [],
   "source": [
    "img = ndwi.toBands().int()"
   ]
  },
  {
   "cell_type": "code",
   "execution_count": 7,
   "id": "f6290930",
   "metadata": {},
   "outputs": [],
   "source": [
    "bandNames = img.bandNames().getInfo()\n",
    "\n",
    "with open('band_names.txt', 'w') as file:\n",
    "    for b in bandNames:\n",
    "        file.write(f\"{b}\\n\")"
   ]
  },
  {
   "cell_type": "code",
   "execution_count": 8,
   "id": "77a7b0bd",
   "metadata": {},
   "outputs": [],
   "source": [
    "from ee.batch import Export\n",
    "\n",
    "task = Export.image.toDrive(\n",
    "    image = img,\n",
    "    region = poly,\n",
    "    scale = 30,\n",
    "    folder = 'gee_exports',\n",
    "    fileNamePrefix = \"NDWI_TimeSeries_Final_Product\",\n",
    "    description = \"Export NDWI time series final product\",\n",
    "    crs = \"EPSG:32617\"\n",
    ")\n",
    "\n",
    "task.start()"
   ]
  },
  {
   "cell_type": "code",
   "execution_count": null,
   "id": "929aa926",
   "metadata": {},
   "outputs": [],
   "source": []
  }
 ],
 "metadata": {
  "kernelspec": {
   "display_name": "Python 3 (ipykernel)",
   "language": "python",
   "name": "python3"
  },
  "language_info": {
   "codemirror_mode": {
    "name": "ipython",
    "version": 3
   },
   "file_extension": ".py",
   "mimetype": "text/x-python",
   "name": "python",
   "nbconvert_exporter": "python",
   "pygments_lexer": "ipython3",
   "version": "3.10.4"
  }
 },
 "nbformat": 4,
 "nbformat_minor": 5
}
