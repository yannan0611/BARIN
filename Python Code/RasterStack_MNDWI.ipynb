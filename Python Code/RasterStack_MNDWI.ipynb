{
 "cells": [
  {
   "cell_type": "code",
   "execution_count": 20,
   "id": "a47cd8f3",
   "metadata": {},
   "outputs": [],
   "source": [
    "import geemap\n",
    "import ee\n",
    "# ee.Authenticate()\n",
    "# ee.Initialize()"
   ]
  },
  {
   "cell_type": "code",
   "execution_count": 21,
   "id": "b01dcb3f",
   "metadata": {},
   "outputs": [],
   "source": [
    "# ee.Authenticate()"
   ]
  },
  {
   "cell_type": "code",
   "execution_count": 22,
   "id": "14a065aa",
   "metadata": {},
   "outputs": [],
   "source": [
    "ee.Initialize()"
   ]
  },
  {
   "cell_type": "code",
   "execution_count": 23,
   "id": "bd5ec663",
   "metadata": {},
   "outputs": [],
   "source": [
    "# Import the shapefile\n",
    "\n",
    "# poly = ee.FeatureCollection(\"projects/ee-wang25/assets/Algonquin_Boundary\").geometry()"
   ]
  },
  {
   "cell_type": "code",
   "execution_count": 24,
   "id": "fd192fe3",
   "metadata": {},
   "outputs": [],
   "source": [
    "# These are the vertices for a random selected location northwest of Noell Lake\n",
    "\n",
    "vertices = [\n",
    "    [\n",
    "       -78.68027543618818,\n",
    "        45.68475395194633\n",
    "    ],\n",
    "    [\n",
    "       -78.67405271127363,\n",
    "        45.68475395194633 \n",
    "    ],\n",
    "    [\n",
    "        -78.67405271127363,\n",
    "        45.68904105696354\n",
    "    ],\n",
    "    [\n",
    "        -78.68027543618818,\n",
    "        45.68904105696354\n",
    "    ],\n",
    "    [\n",
    "        -78.68027543618818,\n",
    "        45.68475395194633\n",
    "    ]\n",
    "]\n",
    "\n",
    "poly = ee.Geometry.Polygon(vertices)"
   ]
  },
  {
   "cell_type": "code",
   "execution_count": 25,
   "id": "09c027c9",
   "metadata": {},
   "outputs": [],
   "source": [
    "def getBit(n):\n",
    "    # Returns a GEE server-side object representing `int(2^n)`\n",
    "    return ee.Number(2).pow(n).int()\n",
    "\n",
    "def addMaskBand(image):   \n",
    "    qa = image.select(\"QA_PIXEL\")\n",
    "    \n",
    "    dilatedCloudBit = getBit(1)\n",
    "    cirrusBit = getBit(2)\n",
    "    cloudBit = getBit(3)\n",
    "    cloudShadowBit = getBit(4)\n",
    "    snowBit = getBit(5)\n",
    "    \n",
    "    # Define the mask by extracting these bits and reclassifying the pixel based on the bit's value\n",
    "    mask = ee.Image(0)\\\n",
    "        .where(qa.bitwiseAnd(dilatedCloudBit).neq(0), 1)\\\n",
    "        .where(qa.bitwiseAnd(cloudBit).neq(0), 2)\\\n",
    "        .where(qa.bitwiseAnd(cirrusBit).neq(0), 3)\\\n",
    "        .where(qa.bitwiseAnd(cloudShadowBit).neq(0), 4)\\\n",
    "        .where(qa.bitwiseAnd(snowBit).neq(0), 5)\\\n",
    "        .updateMask(image.select('QA_PIXEL').mask())\\\n",
    "        .rename(\"cloud_shadow_snow_mask\")\n",
    "    \n",
    "    # return original image with this mask added as an extra band\n",
    "    return image.addBands(mask)\n",
    "\n",
    "def maskImage(image):\n",
    "    cloud_shadow_snow = image.select(\"cloud_shadow_snow_mask\")\n",
    "    return image.updateMask(cloud_shadow_snow.eq(0))\n",
    "\n",
    "def calcMNDWIL8(image):\n",
    "    return image.normalizedDifference(['SR_B3', 'SR_B6']).rename(\"MNDWI\").multiply(10000).set({'system:time_start': image.get('system:time_start')})\n",
    "\n",
    "def calcMNDWI(image):\n",
    "    return image.normalizedDifference(['SR_B2', 'SR_B5']).rename(\"MNDWI\").multiply(10000).set({'system:time_start': image.get('system:time_start')})"
   ]
  },
  {
   "cell_type": "code",
   "execution_count": 26,
   "id": "5e74fb87",
   "metadata": {},
   "outputs": [],
   "source": [
    "filters = [\n",
    "    ee.Filter.bounds(poly),\n",
    "    ee.Filter.lt(\"CLOUD_COVER\", 50)\n",
    "]\n",
    "\n",
    "l8 = ee.ImageCollection(\"LANDSAT/LC08/C02/T1_L2\").filter(filters).map(addMaskBand).map(maskImage).map(calcMNDWIL8)\n",
    "l7 = ee.ImageCollection(\"LANDSAT/LE07/C02/T1_L2\").filter(filters).map(addMaskBand).map(maskImage).map(calcMNDWI)\n",
    "l5 = ee.ImageCollection(\"LANDSAT/LT05/C02/T1_L2\").filter(filters).map(addMaskBand).map(maskImage).map(calcMNDWI)\n",
    "\n",
    "mndwi = ee.ImageCollection(l5.merge(l7).merge(l8)).sort('system:time_start')"
   ]
  },
  {
   "cell_type": "code",
   "execution_count": 27,
   "id": "885e27d8",
   "metadata": {},
   "outputs": [],
   "source": [
    "img = mndwi.toBands().int()"
   ]
  },
  {
   "cell_type": "code",
   "execution_count": 28,
   "id": "d7bacb62",
   "metadata": {},
   "outputs": [],
   "source": [
    "### just in case the band names are not kept when the image is exported\n",
    "### save these ones to rename them offline\n",
    "bandNames = img.bandNames().getInfo()\n",
    "\n",
    "with open('band_names_algonquin_test.txt', 'w') as file:\n",
    "    for b in bandNames:\n",
    "        file.write(f\"{b}\\n\")"
   ]
  },
  {
   "cell_type": "code",
   "execution_count": 29,
   "id": "d4183731",
   "metadata": {},
   "outputs": [],
   "source": [
    "from ee.batch import Export\n",
    "\n",
    "task = Export.image.toDrive(\n",
    "    image = img,\n",
    "    region = poly,\n",
    "    scale = 30,\n",
    "    folder = 'gee_exports',\n",
    "    fileNamePrefix = \"MNDWI_Algonquin_test\",\n",
    "    description = \"Export MNDWI time series Algonquin test\",\n",
    "    crs = \"EPSG:32617\"\n",
    ")\n",
    "\n",
    "task.start()"
   ]
  },
  {
   "cell_type": "code",
   "execution_count": null,
   "id": "9af269c9",
   "metadata": {},
   "outputs": [],
   "source": []
  }
 ],
 "metadata": {
  "kernelspec": {
   "display_name": "Python 3 (ipykernel)",
   "language": "python",
   "name": "python3"
  },
  "language_info": {
   "codemirror_mode": {
    "name": "ipython",
    "version": 3
   },
   "file_extension": ".py",
   "mimetype": "text/x-python",
   "name": "python",
   "nbconvert_exporter": "python",
   "pygments_lexer": "ipython3",
   "version": "3.10.4"
  }
 },
 "nbformat": 4,
 "nbformat_minor": 5
}
